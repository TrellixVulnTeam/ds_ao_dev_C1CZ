{
 "cells": [
  {
   "cell_type": "code",
   "execution_count": 2,
   "id": "8e031866",
   "metadata": {},
   "outputs": [],
   "source": [
    "import requests\n",
    "import pandas as pd\n",
    "import numpy as np\n",
    "import math\n",
    "from bs4 import BeautifulSoup\n",
    "from datetime import datetime"
   ]
  },
  {
   "cell_type": "code",
   "execution_count": 3,
   "id": "5da96c05",
   "metadata": {},
   "outputs": [],
   "source": [
    "url= 'https://www2.hm.com/en_us/productpage.0985159005.html'\n",
    "\n",
    "headers = {'User-Agent':'Mozilla/5.0 (Macintosh; Intel Mac OS X 10_11_5) AppleWebKit/537.36 (KHTML, like Gecko) Chrome/50.0.2661.102 Safari/537.36 OPR/37.0.2178.54'}\n",
    "\n",
    "page = requests.get( url, headers=headers )"
   ]
  },
  {
   "cell_type": "code",
   "execution_count": 4,
   "id": "09f67ba1",
   "metadata": {},
   "outputs": [],
   "source": [
    "# Just One Products\n",
    "\n",
    "#Beautifull Souo object\n",
    "soup= BeautifulSoup(page.text,'html.parser')\n",
    "\n",
    "### ===================== color name ======================\n",
    "\n",
    "products_list= soup.find_all('a',class_='filter-option miniature')\n",
    "\n",
    "#product id\n",
    "products_id = [p.get('data-articlecode') for p in products_list]\n",
    "\n",
    "#color name\n",
    "color_name = [p.get('data-color') for p in products_list]\n",
    "\n",
    "\n",
    "#create data frame\n",
    "\n",
    "df_color = pd.DataFrame([products_id,color_name]).T\n",
    "\n",
    "#rename the columns of DF\n",
    "df_color.columns= ['product_id','color_name']\n",
    "\n",
    "#create new colum styly_id\n",
    "df_color['stlye_id'] = df_color['product_id'].apply(lambda x: x[:-3])\n",
    "\n",
    "#create new colum color_id\n",
    "df_color['color_id'] = df_color['product_id'].apply(lambda x: x[-3:])\n",
    "\n",
    "# ============================== composition =============================== #\n",
    "\n",
    "#composition\n",
    "composition_list= soup.find_all('div', class_ = 'details-attributes-list-item')\n",
    "\n",
    "product_composition = [list(filter (None, p.get_text().split('\\n') ) ) for p in composition_list]\n",
    "\n",
    "#created the dataframe aux\n",
    "df_aux= pd.DataFrame(product_composition).T\n",
    "#renome the columns\n",
    "df_aux.columns= df_aux.iloc[0]\n",
    "\n",
    "#select columns \n",
    "df_aux= df_aux[['Fit','Composition','Art. No.']]\n",
    "\n",
    "#delete the first row and delete the columns that is the empty\n",
    "df_aux= df_aux.iloc[1:3]\n",
    "\n",
    "#copying the code and the model to row the below\n",
    "df_aux = df_aux.fillna(method='ffill')\n",
    "\n",
    "#rename the data frame to a new variable\n",
    "df_composition = df_aux.copy(True)\n",
    "\n",
    "#create new colum styly_id\n",
    "df_composition['stlye_id'] =df_composition['Art. No.'].apply(lambda x: x[:-3])\n",
    "\n",
    "#create new colum color_id\n",
    "df_composition['color_id'] = df_composition['Art. No.'].apply(lambda x: x[-3:])\n",
    "\n",
    "#merge dataframe of color and composition \n",
    "data_sku= pd.merge(df_color,df_composition[['stlye_id','Fit','Composition']], how='left', on ='stlye_id')"
   ]
  },
  {
   "cell_type": "code",
   "execution_count": 6,
   "id": "7c0c2286",
   "metadata": {},
   "outputs": [],
   "source": []
  },
  {
   "cell_type": "code",
   "execution_count": 7,
   "id": "d827b9ff",
   "metadata": {},
   "outputs": [],
   "source": []
  },
  {
   "cell_type": "code",
   "execution_count": null,
   "id": "f8e742cd",
   "metadata": {},
   "outputs": [],
   "source": []
  },
  {
   "cell_type": "code",
   "execution_count": null,
   "id": "4f7db960",
   "metadata": {},
   "outputs": [],
   "source": []
  }
 ],
 "metadata": {
  "kernelspec": {
   "display_name": "Python 3 (ipykernel)",
   "language": "python",
   "name": "python3"
  },
  "language_info": {
   "codemirror_mode": {
    "name": "ipython",
    "version": 3
   },
   "file_extension": ".py",
   "mimetype": "text/x-python",
   "name": "python",
   "nbconvert_exporter": "python",
   "pygments_lexer": "ipython3",
   "version": "3.8.10"
  }
 },
 "nbformat": 4,
 "nbformat_minor": 5
}
