{
 "cells": [
  {
   "cell_type": "code",
   "execution_count": 1,
   "id": "b7a90819",
   "metadata": {},
   "outputs": [],
   "source": [
    "import requests\n",
    "import pandas as pd\n",
    "import numpy as np\n",
    "import math\n",
    "from bs4 import BeautifulSoup\n",
    "from datetime import datetime\n",
    "\n",
    "\n"
   ]
  },
  {
   "cell_type": "code",
   "execution_count": 2,
   "id": "5df4e3b9",
   "metadata": {},
   "outputs": [],
   "source": [
    "url = 'https://books.toscrape.com/catalogue/category/books/classics_6/index.html'\n",
    "\n",
    "headers = {'User-Agent':'Mozilla/5.0 (Macintosh; Intel Mac OS X 10_11_5) AppleWebKit/537.36 (KHTML, like Gecko) Chrome/50.0.2661.102 Safari/537.36 OPR/37.0.2178.54'}\n",
    "\n",
    "page = requests.get(url,headers = headers)\n",
    "\n",
    "soup= BeautifulSoup(page.text, 'html.parser')"
   ]
  },
  {
   "cell_type": "code",
   "execution_count": 3,
   "id": "9559f945",
   "metadata": {},
   "outputs": [],
   "source": [
    "products_page_inicial = soup.find('ol',class_='row')"
   ]
  },
  {
   "cell_type": "code",
   "execution_count": 4,
   "id": "85c5581e",
   "metadata": {},
   "outputs": [],
   "source": [
    "#colect name of book\n",
    "name_book =  soup.find_all('img',class_='thumbnail')\n",
    "\n",
    "#name of book\n",
    "product_name= [p.get('alt') for p in name_book ]"
   ]
  },
  {
   "cell_type": "code",
   "execution_count": 5,
   "id": "1397bfaa",
   "metadata": {},
   "outputs": [],
   "source": [
    "#price of books\n",
    "price_regular= products_page_inicial.find_all('p',class_='price_color')\n",
    "product_price= [p.get_text().replace('Â£','') for p in price_regular]"
   ]
  },
  {
   "cell_type": "code",
   "execution_count": 6,
   "id": "a3eebf8b",
   "metadata": {},
   "outputs": [],
   "source": [
    "#product in stock\n",
    "stock= products_page_inicial.find_all('p',class_='instock availability')\n",
    "\n",
    "product_stock= [p.text[15:-6] for p in stock]"
   ]
  },
  {
   "cell_type": "code",
   "execution_count": 7,
   "id": "79fe7135",
   "metadata": {},
   "outputs": [],
   "source": [
    "#coletando link para fazer paginação\n",
    "\n",
    "list_link=soup.find_all('article',class_='product_pod')\n",
    "\n",
    "link_book= [p.a.get('href')[9:] for p in list_link]"
   ]
  },
  {
   "cell_type": "code",
   "execution_count": 8,
   "id": "452953b5",
   "metadata": {},
   "outputs": [
    {
     "data": {
      "text/plain": [
       "'alice-in-wonderland-alices-adventures-in-wonderland-1_5/index.html'"
      ]
     },
     "execution_count": 8,
     "metadata": {},
     "output_type": "execute_result"
    }
   ],
   "source": [
    "link_book[18]"
   ]
  },
  {
   "cell_type": "code",
   "execution_count": 48,
   "id": "3bb02676",
   "metadata": {},
   "outputs": [
    {
     "data": {
      "text/plain": [
       "'Classics'"
      ]
     },
     "execution_count": 48,
     "metadata": {},
     "output_type": "execute_result"
    }
   ],
   "source": [
    "#classic\n",
    "\n",
    "#soup.find_all('div',class_='page-header action')\n",
    "\n",
    "list_category = soup.find('li',class_='active').get_text('Classics')\n",
    "\n",
    "list_category\n",
    "#product_category = \n",
    "#[p.get_text('Classics') for p in list_category]"
   ]
  },
  {
   "cell_type": "code",
   "execution_count": 47,
   "id": "cb107090",
   "metadata": {},
   "outputs": [
    {
     "data": {
      "text/plain": [
       "<article class=\"product_pod\">\n",
       "<div class=\"image_container\">\n",
       "<a href=\"../../../the-secret-garden_413/index.html\"><img alt=\"The Secret Garden\" class=\"thumbnail\" src=\"../../../../media/cache/c5/46/c5465a06182ed6ebfa40d049258a2f58.jpg\"/></a>\n",
       "</div>\n",
       "<p class=\"star-rating Four\">\n",
       "<i class=\"icon-star\"></i>\n",
       "<i class=\"icon-star\"></i>\n",
       "<i class=\"icon-star\"></i>\n",
       "<i class=\"icon-star\"></i>\n",
       "<i class=\"icon-star\"></i>\n",
       "</p>\n",
       "<h3><a href=\"../../../the-secret-garden_413/index.html\" title=\"The Secret Garden\">The Secret Garden</a></h3>\n",
       "<div class=\"product_price\">\n",
       "<p class=\"price_color\">Â£15.08</p>\n",
       "<p class=\"instock availability\">\n",
       "<i class=\"icon-ok\"></i>\n",
       "    \n",
       "        In stock\n",
       "    \n",
       "</p>\n",
       "<form>\n",
       "<button class=\"btn btn-primary btn-block\" data-loading-text=\"Adding...\" type=\"submit\">Add to basket</button>\n",
       "</form>\n",
       "</div>\n",
       "</article>"
      ]
     },
     "execution_count": 47,
     "metadata": {},
     "output_type": "execute_result"
    }
   ],
   "source": []
  },
  {
   "cell_type": "code",
   "execution_count": 9,
   "id": "6727fdd0",
   "metadata": {},
   "outputs": [],
   "source": [
    "data= pd.DataFrame([product_name,product_price,product_stock,link_book]).T\n",
    "\n",
    "data.columns= ['product_name','product_price','product_stock','link_book']\n",
    "\n",
    "data['scrapy_datetime'] = datetime.now().strftime('%Y-%m-%d-%H-%M-%S')"
   ]
  },
  {
   "cell_type": "code",
   "execution_count": 10,
   "id": "9aa25f5c",
   "metadata": {},
   "outputs": [
    {
     "data": {
      "text/html": [
       "<div>\n",
       "<style scoped>\n",
       "    .dataframe tbody tr th:only-of-type {\n",
       "        vertical-align: middle;\n",
       "    }\n",
       "\n",
       "    .dataframe tbody tr th {\n",
       "        vertical-align: top;\n",
       "    }\n",
       "\n",
       "    .dataframe thead th {\n",
       "        text-align: right;\n",
       "    }\n",
       "</style>\n",
       "<table border=\"1\" class=\"dataframe\">\n",
       "  <thead>\n",
       "    <tr style=\"text-align: right;\">\n",
       "      <th></th>\n",
       "      <th>product_name</th>\n",
       "      <th>product_price</th>\n",
       "      <th>product_stock</th>\n",
       "      <th>link_book</th>\n",
       "      <th>scrapy_datetime</th>\n",
       "    </tr>\n",
       "  </thead>\n",
       "  <tbody>\n",
       "    <tr>\n",
       "      <th>0</th>\n",
       "      <td>The Secret Garden</td>\n",
       "      <td>15.08</td>\n",
       "      <td>In stock</td>\n",
       "      <td>the-secret-garden_413/index.html</td>\n",
       "      <td>2022-04-21-15-15-40</td>\n",
       "    </tr>\n",
       "    <tr>\n",
       "      <th>1</th>\n",
       "      <td>The Metamorphosis</td>\n",
       "      <td>28.58</td>\n",
       "      <td>In stock</td>\n",
       "      <td>the-metamorphosis_409/index.html</td>\n",
       "      <td>2022-04-21-15-15-40</td>\n",
       "    </tr>\n",
       "    <tr>\n",
       "      <th>2</th>\n",
       "      <td>The Pilgrim's Progress</td>\n",
       "      <td>50.26</td>\n",
       "      <td>In stock</td>\n",
       "      <td>the-pilgrims-progress_353/index.html</td>\n",
       "      <td>2022-04-21-15-15-40</td>\n",
       "    </tr>\n",
       "    <tr>\n",
       "      <th>3</th>\n",
       "      <td>The Hound of the Baskervilles (Sherlock Holmes...</td>\n",
       "      <td>14.82</td>\n",
       "      <td>In stock</td>\n",
       "      <td>the-hound-of-the-baskervilles-sherlock-holmes-...</td>\n",
       "      <td>2022-04-21-15-15-40</td>\n",
       "    </tr>\n",
       "    <tr>\n",
       "      <th>4</th>\n",
       "      <td>Little Women (Little Women #1)</td>\n",
       "      <td>28.07</td>\n",
       "      <td>In stock</td>\n",
       "      <td>little-women-little-women-1_331/index.html</td>\n",
       "      <td>2022-04-21-15-15-40</td>\n",
       "    </tr>\n",
       "  </tbody>\n",
       "</table>\n",
       "</div>"
      ],
      "text/plain": [
       "                                        product_name product_price  \\\n",
       "0                                  The Secret Garden         15.08   \n",
       "1                                  The Metamorphosis         28.58   \n",
       "2                             The Pilgrim's Progress         50.26   \n",
       "3  The Hound of the Baskervilles (Sherlock Holmes...         14.82   \n",
       "4                     Little Women (Little Women #1)         28.07   \n",
       "\n",
       "  product_stock                                          link_book  \\\n",
       "0      In stock                   the-secret-garden_413/index.html   \n",
       "1      In stock                   the-metamorphosis_409/index.html   \n",
       "2      In stock               the-pilgrims-progress_353/index.html   \n",
       "3      In stock  the-hound-of-the-baskervilles-sherlock-holmes-...   \n",
       "4      In stock         little-women-little-women-1_331/index.html   \n",
       "\n",
       "       scrapy_datetime  \n",
       "0  2022-04-21-15-15-40  \n",
       "1  2022-04-21-15-15-40  \n",
       "2  2022-04-21-15-15-40  \n",
       "3  2022-04-21-15-15-40  \n",
       "4  2022-04-21-15-15-40  "
      ]
     },
     "execution_count": 10,
     "metadata": {},
     "output_type": "execute_result"
    }
   ],
   "source": [
    "data.head()"
   ]
  },
  {
   "cell_type": "code",
   "execution_count": null,
   "id": "6b05b681",
   "metadata": {},
   "outputs": [],
   "source": []
  },
  {
   "cell_type": "code",
   "execution_count": null,
   "id": "39a3d33c",
   "metadata": {},
   "outputs": [],
   "source": []
  },
  {
   "cell_type": "code",
   "execution_count": null,
   "id": "d6ed40fb",
   "metadata": {},
   "outputs": [],
   "source": []
  },
  {
   "cell_type": "code",
   "execution_count": null,
   "id": "50eaa49d",
   "metadata": {},
   "outputs": [],
   "source": []
  },
  {
   "cell_type": "code",
   "execution_count": null,
   "id": "189cd34c",
   "metadata": {},
   "outputs": [],
   "source": []
  }
 ],
 "metadata": {
  "kernelspec": {
   "display_name": "Python 3 (ipykernel)",
   "language": "python",
   "name": "python3"
  },
  "language_info": {
   "codemirror_mode": {
    "name": "ipython",
    "version": 3
   },
   "file_extension": ".py",
   "mimetype": "text/x-python",
   "name": "python",
   "nbconvert_exporter": "python",
   "pygments_lexer": "ipython3",
   "version": "3.8.10"
  }
 },
 "nbformat": 4,
 "nbformat_minor": 5
}
