{
 "cells": [
  {
   "cell_type": "code",
   "execution_count": 1,
   "id": "7b1193b5",
   "metadata": {},
   "outputs": [],
   "source": [
    "import requests\n",
    "import pandas as pd\n",
    "import numpy as np\n",
    "import math\n",
    "from bs4 import BeautifulSoup\n",
    "from datetime import datetime"
   ]
  },
  {
   "cell_type": "code",
   "execution_count": 2,
   "id": "4f1e898b",
   "metadata": {},
   "outputs": [],
   "source": [
    "#this is first part to load the data\n",
    "\n",
    "url = 'https://books.toscrape.com/catalogue/category/books/classics_6'\n",
    "\n",
    "headers = {'User-Agent':'Mozilla/5.0 (Macintosh; Intel Mac OS X 10_11_5) AppleWebKit/537.36 (KHTML, like Gecko) Chrome/50.0.2661.102 Safari/537.36 OPR/37.0.2178.54'}\n",
    "\n",
    "page = requests.get( url, headers=headers )\n",
    "\n",
    "\n",
    "soup= BeautifulSoup(page.text,'html.parser')\n",
    "\n",
    "#coletando total de itens da pagina\n",
    "\n",
    "#total_itens= soup.find_all('strong')[1].get_text()\n",
    "\n",
    "#total_itens"
   ]
  },
  {
   "cell_type": "code",
   "execution_count": null,
   "id": "fe8ba579",
   "metadata": {},
   "outputs": [],
   "source": [
    "url = url\n",
    "\n",
    "headers = {'User-Agent':'Mozilla/5.0 (Macintosh; Intel Mac OS X 10_11_5) AppleWebKit/537.36 (KHTML, like Gecko) Chrome/50.0.2661.102 Safari/537.36 OPR/37.0.2178.54'}\n",
    "\n",
    "page = requests.get(url,headers = headers)\n",
    "\n",
    "soup= BeautifulSoup(page.text, 'html.parser')\n",
    "\n",
    "products_page_inicial = soup.find('ol',class_='row')\n",
    "\n",
    "#colect name of book\n",
    "name_book =  soup.find_all('img',class_='thumbnail')\n",
    "\n",
    "#name of book\n",
    "product_name= [p.get('alt') for p in name_book ]\n",
    "\n",
    "#price of books\n",
    "price_regular= products_page_inicial.find_all('p',class_='price_color')\n",
    "product_price= [p.get_text().replace('Â£','') for p in price_regular]\n",
    "\n",
    "#product in stock\n",
    "stock= products_page_inicial.find_all('p',class_='instock availability')\n",
    "\n",
    "\n",
    "#product in stock of webiste\n",
    "product_stock= [p.text[15:-6] for p in stock]\n",
    "\n",
    "#coletando link para fazer paginação\n",
    "\n",
    "list_link=soup.find_all('article',class_='product_pod')\n",
    "\n",
    "link_book= [p.a.get('href')[9:] for p in list_link]\n",
    "\n",
    "#############\n",
    "\n",
    "#dataframe with information \n",
    "\n",
    "data= pd.DataFrame([product_name,product_price,product_stock,link_book]).T\n",
    "\n",
    "data.columns= ['product_name','product_price','product_stock','link_book']\n",
    "\n",
    "data['scrapy_datetime'] = datetime.now().strftime('%Y-%m-%d-%H-%M-%S')"
   ]
  },
  {
   "cell_type": "code",
   "execution_count": 6,
   "id": "5cec0000",
   "metadata": {},
   "outputs": [
    {
     "data": {
      "text/html": [
       "<div>\n",
       "<style scoped>\n",
       "    .dataframe tbody tr th:only-of-type {\n",
       "        vertical-align: middle;\n",
       "    }\n",
       "\n",
       "    .dataframe tbody tr th {\n",
       "        vertical-align: top;\n",
       "    }\n",
       "\n",
       "    .dataframe thead th {\n",
       "        text-align: right;\n",
       "    }\n",
       "</style>\n",
       "<table border=\"1\" class=\"dataframe\">\n",
       "  <thead>\n",
       "    <tr style=\"text-align: right;\">\n",
       "      <th></th>\n",
       "      <th>product_name</th>\n",
       "      <th>product_price</th>\n",
       "      <th>product_stock</th>\n",
       "      <th>scrapy_datetime</th>\n",
       "    </tr>\n",
       "  </thead>\n",
       "  <tbody>\n",
       "    <tr>\n",
       "      <th>0</th>\n",
       "      <td>The Secret Garden</td>\n",
       "      <td>15.08</td>\n",
       "      <td>In stock</td>\n",
       "      <td>2022-04-20-20-02-53</td>\n",
       "    </tr>\n",
       "    <tr>\n",
       "      <th>1</th>\n",
       "      <td>The Metamorphosis</td>\n",
       "      <td>28.58</td>\n",
       "      <td>In stock</td>\n",
       "      <td>2022-04-20-20-02-53</td>\n",
       "    </tr>\n",
       "    <tr>\n",
       "      <th>2</th>\n",
       "      <td>The Pilgrim's Progress</td>\n",
       "      <td>50.26</td>\n",
       "      <td>In stock</td>\n",
       "      <td>2022-04-20-20-02-53</td>\n",
       "    </tr>\n",
       "    <tr>\n",
       "      <th>3</th>\n",
       "      <td>The Hound of the Baskervilles (Sherlock Holmes...</td>\n",
       "      <td>14.82</td>\n",
       "      <td>In stock</td>\n",
       "      <td>2022-04-20-20-02-53</td>\n",
       "    </tr>\n",
       "    <tr>\n",
       "      <th>4</th>\n",
       "      <td>Little Women (Little Women #1)</td>\n",
       "      <td>28.07</td>\n",
       "      <td>In stock</td>\n",
       "      <td>2022-04-20-20-02-53</td>\n",
       "    </tr>\n",
       "  </tbody>\n",
       "</table>\n",
       "</div>"
      ],
      "text/plain": [
       "                                        product_name product_price  \\\n",
       "0                                  The Secret Garden         15.08   \n",
       "1                                  The Metamorphosis         28.58   \n",
       "2                             The Pilgrim's Progress         50.26   \n",
       "3  The Hound of the Baskervilles (Sherlock Holmes...         14.82   \n",
       "4                     Little Women (Little Women #1)         28.07   \n",
       "\n",
       "  product_stock      scrapy_datetime  \n",
       "0      In stock  2022-04-20-20-02-53  \n",
       "1      In stock  2022-04-20-20-02-53  \n",
       "2      In stock  2022-04-20-20-02-53  \n",
       "3      In stock  2022-04-20-20-02-53  \n",
       "4      In stock  2022-04-20-20-02-53  "
      ]
     },
     "execution_count": 6,
     "metadata": {},
     "output_type": "execute_result"
    }
   ],
   "source": [
    "data.head()"
   ]
  },
  {
   "cell_type": "code",
   "execution_count": 7,
   "id": "eb33bc59",
   "metadata": {},
   "outputs": [
    {
     "ename": "AttributeError",
     "evalue": "ResultSet object has no attribute 'find_all'. You're probably treating a list of elements like a single element. Did you call find_all() when you meant to call find()?",
     "output_type": "error",
     "traceback": [
      "\u001b[0;31m---------------------------------------------------------------------------\u001b[0m",
      "\u001b[0;31mAttributeError\u001b[0m                            Traceback (most recent call last)",
      "Input \u001b[0;32mIn [7]\u001b[0m, in \u001b[0;36m<cell line: 4>\u001b[0;34m()\u001b[0m\n\u001b[1;32m     14\u001b[0m product_list \u001b[38;5;241m=\u001b[39m soup\u001b[38;5;241m.\u001b[39mfind_all(\u001b[38;5;124m'\u001b[39m\u001b[38;5;124mdiv\u001b[39m\u001b[38;5;124m'\u001b[39m,class_\u001b[38;5;241m=\u001b[39m\u001b[38;5;124m'\u001b[39m\u001b[38;5;124mcontainer-fluid page\u001b[39m\u001b[38;5;124m'\u001b[39m)\n\u001b[1;32m     18\u001b[0m \u001b[38;5;66;03m#category of book\u001b[39;00m\n\u001b[1;32m     19\u001b[0m \u001b[38;5;66;03m#product_category= product_list.find_all('a')[2].get_text()\u001b[39;00m\n\u001b[0;32m---> 20\u001b[0m list_category \u001b[38;5;241m=\u001b[39m \u001b[43mproduct_list\u001b[49m\u001b[38;5;241;43m.\u001b[39;49m\u001b[43mfind_all\u001b[49m(\u001b[38;5;124m'\u001b[39m\u001b[38;5;124ma\u001b[39m\u001b[38;5;124m'\u001b[39m)[\u001b[38;5;241m2\u001b[39m]\n\u001b[1;32m     22\u001b[0m product_category\u001b[38;5;241m=\u001b[39m [p\u001b[38;5;241m.\u001b[39mget_text() \u001b[38;5;28;01mfor\u001b[39;00m p \u001b[38;5;129;01min\u001b[39;00m list_category]\n\u001b[1;32m     25\u001b[0m product_category\n",
      "File \u001b[0;32m~/Documentos/repos/ds_ao_dev/dsaodev/lib/python3.8/site-packages/bs4/element.py:2253\u001b[0m, in \u001b[0;36mResultSet.__getattr__\u001b[0;34m(self, key)\u001b[0m\n\u001b[1;32m   2251\u001b[0m \u001b[38;5;28;01mdef\u001b[39;00m \u001b[38;5;21m__getattr__\u001b[39m(\u001b[38;5;28mself\u001b[39m, key):\n\u001b[1;32m   2252\u001b[0m     \u001b[38;5;124;03m\"\"\"Raise a helpful exception to explain a common code fix.\"\"\"\u001b[39;00m\n\u001b[0;32m-> 2253\u001b[0m     \u001b[38;5;28;01mraise\u001b[39;00m \u001b[38;5;167;01mAttributeError\u001b[39;00m(\n\u001b[1;32m   2254\u001b[0m         \u001b[38;5;124m\"\u001b[39m\u001b[38;5;124mResultSet object has no attribute \u001b[39m\u001b[38;5;124m'\u001b[39m\u001b[38;5;132;01m%s\u001b[39;00m\u001b[38;5;124m'\u001b[39m\u001b[38;5;124m. You\u001b[39m\u001b[38;5;124m'\u001b[39m\u001b[38;5;124mre probably treating a list of elements like a single element. Did you call find_all() when you meant to call find()?\u001b[39m\u001b[38;5;124m\"\u001b[39m \u001b[38;5;241m%\u001b[39m key\n\u001b[1;32m   2255\u001b[0m     )\n",
      "\u001b[0;31mAttributeError\u001b[0m: ResultSet object has no attribute 'find_all'. You're probably treating a list of elements like a single element. Did you call find_all() when you meant to call find()?"
     ]
    }
   ],
   "source": [
    "headers = {'User-Agent':'Mozilla/5.0 (Macintosh; Intel Mac OS X 10_11_5) AppleWebKit/537.36 (KHTML, like Gecko) Chrome/50.0.2661.102 Safari/537.36 OPR/37.0.2178.54'}\n",
    "    \n",
    "#API Requests\n",
    "for i in range(len(data)):\n",
    "    \n",
    "    \n",
    "    url = 'https://books.toscrape.com/catalogue/'+ data.loc[i,'product_name'] + '.index.html'\n",
    "    \n",
    "    page = requests.get( url, headers=headers )\n",
    "\n",
    "    #Beautifull Souo object\n",
    "    soup= BeautifulSoup(page.text,'html.parser')\n",
    "\n",
    "    product_list = soup.find_all('div',class_='container-fluid page')\n",
    "    \n",
    "    \n",
    "    \n",
    "    #category of book\n",
    "    #product_category= product_list.find_all('a')[2].get_text()\n",
    "    list_category = product_list.find_all('a')[2]\n",
    "    \n",
    "    product_category= [p.get_text() for p in list_category]\n",
    "    \n",
    "    \n",
    "    product_category\n",
    "    \n",
    "    #terceira parte/ observar a coleta"
   ]
  },
  {
   "cell_type": "code",
   "execution_count": 8,
   "id": "e0882254",
   "metadata": {},
   "outputs": [
    {
     "data": {
      "text/plain": [
       "'https://books.toscrape.com/catalogue/The Secret Garden.index.html'"
      ]
     },
     "execution_count": 8,
     "metadata": {},
     "output_type": "execute_result"
    }
   ],
   "source": [
    "url"
   ]
  },
  {
   "cell_type": "code",
   "execution_count": null,
   "id": "8f46c0f6",
   "metadata": {},
   "outputs": [],
   "source": []
  }
 ],
 "metadata": {
  "kernelspec": {
   "display_name": "Python 3 (ipykernel)",
   "language": "python",
   "name": "python3"
  },
  "language_info": {
   "codemirror_mode": {
    "name": "ipython",
    "version": 3
   },
   "file_extension": ".py",
   "mimetype": "text/x-python",
   "name": "python",
   "nbconvert_exporter": "python",
   "pygments_lexer": "ipython3",
   "version": "3.8.10"
  }
 },
 "nbformat": 4,
 "nbformat_minor": 5
}
