{
 "cells": [
  {
   "cell_type": "code",
   "execution_count": 34,
   "id": "5257b49f",
   "metadata": {},
   "outputs": [],
   "source": [
    "import pandas as pd\n",
    "import sqlite3\n",
    "\n",
    "from sqlalchemy import create_engine"
   ]
  },
  {
   "cell_type": "code",
   "execution_count": 35,
   "id": "39def1c3",
   "metadata": {},
   "outputs": [],
   "source": [
    "data= pd.read_csv('data.store_book.csv')\n",
    "data = data.drop(['Unnamed: 0'],axis=1)"
   ]
  },
  {
   "cell_type": "code",
   "execution_count": 36,
   "id": "71a066d7",
   "metadata": {},
   "outputs": [
    {
     "data": {
      "text/html": [
       "<div>\n",
       "<style scoped>\n",
       "    .dataframe tbody tr th:only-of-type {\n",
       "        vertical-align: middle;\n",
       "    }\n",
       "\n",
       "    .dataframe tbody tr th {\n",
       "        vertical-align: top;\n",
       "    }\n",
       "\n",
       "    .dataframe thead th {\n",
       "        text-align: right;\n",
       "    }\n",
       "</style>\n",
       "<table border=\"1\" class=\"dataframe\">\n",
       "  <thead>\n",
       "    <tr style=\"text-align: right;\">\n",
       "      <th></th>\n",
       "      <th>product_name</th>\n",
       "      <th>product_price</th>\n",
       "      <th>product_stock</th>\n",
       "      <th>product_avaliation</th>\n",
       "      <th>product_category</th>\n",
       "      <th>scrapy_datetime</th>\n",
       "    </tr>\n",
       "  </thead>\n",
       "  <tbody>\n",
       "    <tr>\n",
       "      <th>0</th>\n",
       "      <td>the_secret_garden</td>\n",
       "      <td>15.08</td>\n",
       "      <td>instock</td>\n",
       "      <td>4</td>\n",
       "      <td>classics</td>\n",
       "      <td>2022-05-05 15:36:34</td>\n",
       "    </tr>\n",
       "    <tr>\n",
       "      <th>1</th>\n",
       "      <td>the_metamorphosis</td>\n",
       "      <td>28.58</td>\n",
       "      <td>instock</td>\n",
       "      <td>1</td>\n",
       "      <td>classics</td>\n",
       "      <td>2022-05-05 15:36:34</td>\n",
       "    </tr>\n",
       "    <tr>\n",
       "      <th>2</th>\n",
       "      <td>the_pilgrim's_progress</td>\n",
       "      <td>50.26</td>\n",
       "      <td>instock</td>\n",
       "      <td>2</td>\n",
       "      <td>classics</td>\n",
       "      <td>2022-05-05 15:36:34</td>\n",
       "    </tr>\n",
       "    <tr>\n",
       "      <th>3</th>\n",
       "      <td>the_hound_of_the_baskervilles_(sherlock_holmes...</td>\n",
       "      <td>14.82</td>\n",
       "      <td>instock</td>\n",
       "      <td>2</td>\n",
       "      <td>classics</td>\n",
       "      <td>2022-05-05 15:36:34</td>\n",
       "    </tr>\n",
       "    <tr>\n",
       "      <th>4</th>\n",
       "      <td>little_women_(little_women_#1)</td>\n",
       "      <td>28.07</td>\n",
       "      <td>instock</td>\n",
       "      <td>4</td>\n",
       "      <td>classics</td>\n",
       "      <td>2022-05-05 15:36:34</td>\n",
       "    </tr>\n",
       "  </tbody>\n",
       "</table>\n",
       "</div>"
      ],
      "text/plain": [
       "                                        product_name  product_price  \\\n",
       "0                                  the_secret_garden          15.08   \n",
       "1                                  the_metamorphosis          28.58   \n",
       "2                             the_pilgrim's_progress          50.26   \n",
       "3  the_hound_of_the_baskervilles_(sherlock_holmes...          14.82   \n",
       "4                     little_women_(little_women_#1)          28.07   \n",
       "\n",
       "  product_stock  product_avaliation product_category      scrapy_datetime  \n",
       "0       instock                   4         classics  2022-05-05 15:36:34  \n",
       "1       instock                   1         classics  2022-05-05 15:36:34  \n",
       "2       instock                   2         classics  2022-05-05 15:36:34  \n",
       "3       instock                   2         classics  2022-05-05 15:36:34  \n",
       "4       instock                   4         classics  2022-05-05 15:36:34  "
      ]
     },
     "execution_count": 36,
     "metadata": {},
     "output_type": "execute_result"
    }
   ],
   "source": [
    "data.head()"
   ]
  },
  {
   "cell_type": "code",
   "execution_count": 19,
   "id": "62b34f8a",
   "metadata": {},
   "outputs": [
    {
     "data": {
      "text/plain": [
       "product_name             TEXT\n",
       "product_price            REAL\n",
       "product_stock            TEXT\n",
       "product_avaliation    INTEGER\n",
       "product_category         TEXT\n",
       "scrapy_datetime          TEXT\n",
       "dtype: object"
      ]
     },
     "execution_count": 19,
     "metadata": {},
     "output_type": "execute_result"
    }
   ],
   "source": [
    "#convent to types leanguage sql\n",
    "\n",
    "data = data.dtypes.replace('object','TEXT').replace('int64','INTEGER').replace('float64','REAL')\n",
    "\n",
    "data"
   ]
  },
  {
   "cell_type": "code",
   "execution_count": 37,
   "id": "e811e791",
   "metadata": {},
   "outputs": [],
   "source": [
    "#montando a query (colocando as respectivas colunas e seus respectivos tipos de acordo com linguagem SQL)\n",
    "\n",
    "query_showroom_schrem = \"\"\" \n",
    "    CREATE TABLE VITRINE(product_name             TEXT,\n",
    "                         product_price            REAL,\n",
    "                         product_stock            TEXT,\n",
    "                         product_avaliation    INTEGER,\n",
    "                         product_category         TEXT,\n",
    "                         scrapy_datetime          TEXT) \"\"\""
   ]
  },
  {
   "cell_type": "code",
   "execution_count": 23,
   "id": "58eb6bc8",
   "metadata": {},
   "outputs": [],
   "source": [
    "#criando banco de dados\n",
    "conn = sqlite3.connect('store_books.sqlite')\n",
    "\n",
    "#executando a chamada da query eu quero\n",
    "cursor = conn.execute(query_showroom_schrem)\n",
    "\n",
    "#confirmado a chamada do cursor (query que eu realmente quero)\n",
    "\n",
    "conn.commit()"
   ]
  },
  {
   "cell_type": "code",
   "execution_count": null,
   "id": "5810752b",
   "metadata": {},
   "outputs": [],
   "source": []
  },
  {
   "cell_type": "code",
   "execution_count": 38,
   "id": "ce8840b7",
   "metadata": {},
   "outputs": [],
   "source": [
    "\n",
    "#usando sqlalchemy é possível usar para outros bancos de dados e por meio dele também ser criado como foi o \n",
    "# código acima. Ou seja, Com ele é possível criar um banco de dados e fazer as manipulaçoes também\n",
    "\n",
    "#verificando se a query foi realmente criada\n",
    "\n",
    "#conectando ao novo pacote/ \n",
    "conn= create_engine('sqlite:///store_books.sqlite', echo=False)"
   ]
  },
  {
   "cell_type": "code",
   "execution_count": 44,
   "id": "f2773712",
   "metadata": {},
   "outputs": [
    {
     "data": {
      "text/html": [
       "<div>\n",
       "<style scoped>\n",
       "    .dataframe tbody tr th:only-of-type {\n",
       "        vertical-align: middle;\n",
       "    }\n",
       "\n",
       "    .dataframe tbody tr th {\n",
       "        vertical-align: top;\n",
       "    }\n",
       "\n",
       "    .dataframe thead th {\n",
       "        text-align: right;\n",
       "    }\n",
       "</style>\n",
       "<table border=\"1\" class=\"dataframe\">\n",
       "  <thead>\n",
       "    <tr style=\"text-align: right;\">\n",
       "      <th></th>\n",
       "      <th>product_name</th>\n",
       "      <th>product_price</th>\n",
       "      <th>product_stock</th>\n",
       "      <th>product_avaliation</th>\n",
       "      <th>product_category</th>\n",
       "      <th>scrapy_datetime</th>\n",
       "    </tr>\n",
       "  </thead>\n",
       "  <tbody>\n",
       "    <tr>\n",
       "      <th>0</th>\n",
       "      <td>the_secret_garden</td>\n",
       "      <td>15.08</td>\n",
       "      <td>instock</td>\n",
       "      <td>4</td>\n",
       "      <td>classics</td>\n",
       "      <td>2022-05-05</td>\n",
       "    </tr>\n",
       "    <tr>\n",
       "      <th>1</th>\n",
       "      <td>the_metamorphosis</td>\n",
       "      <td>28.58</td>\n",
       "      <td>instock</td>\n",
       "      <td>1</td>\n",
       "      <td>classics</td>\n",
       "      <td>2022-05-05</td>\n",
       "    </tr>\n",
       "    <tr>\n",
       "      <th>2</th>\n",
       "      <td>the_pilgrim's_progress</td>\n",
       "      <td>50.26</td>\n",
       "      <td>instock</td>\n",
       "      <td>2</td>\n",
       "      <td>classics</td>\n",
       "      <td>2022-05-05</td>\n",
       "    </tr>\n",
       "    <tr>\n",
       "      <th>3</th>\n",
       "      <td>the_hound_of_the_baskervilles_(sherlock_holmes...</td>\n",
       "      <td>14.82</td>\n",
       "      <td>instock</td>\n",
       "      <td>2</td>\n",
       "      <td>classics</td>\n",
       "      <td>2022-05-05</td>\n",
       "    </tr>\n",
       "    <tr>\n",
       "      <th>4</th>\n",
       "      <td>little_women_(little_women_#1)</td>\n",
       "      <td>28.07</td>\n",
       "      <td>instock</td>\n",
       "      <td>4</td>\n",
       "      <td>classics</td>\n",
       "      <td>2022-05-05</td>\n",
       "    </tr>\n",
       "  </tbody>\n",
       "</table>\n",
       "</div>"
      ],
      "text/plain": [
       "                                        product_name  product_price  \\\n",
       "0                                  the_secret_garden          15.08   \n",
       "1                                  the_metamorphosis          28.58   \n",
       "2                             the_pilgrim's_progress          50.26   \n",
       "3  the_hound_of_the_baskervilles_(sherlock_holmes...          14.82   \n",
       "4                     little_women_(little_women_#1)          28.07   \n",
       "\n",
       "  product_stock  product_avaliation product_category scrapy_datetime  \n",
       "0       instock                   4         classics      2022-05-05  \n",
       "1       instock                   1         classics      2022-05-05  \n",
       "2       instock                   2         classics      2022-05-05  \n",
       "3       instock                   2         classics      2022-05-05  \n",
       "4       instock                   4         classics      2022-05-05  "
      ]
     },
     "execution_count": 44,
     "metadata": {},
     "output_type": "execute_result"
    }
   ],
   "source": [
    "#selecionando as coluna que preciso/quero manipular\n",
    "\n",
    "query = \"\"\" SELECT * FROM VITRINE \"\"\"\n",
    "\n",
    "\n",
    "#lendo minha query criada\n",
    "df = pd.read_sql_query(query,conn)\n",
    "\n",
    "df.head()"
   ]
  },
  {
   "cell_type": "code",
   "execution_count": 40,
   "id": "1d992a8d",
   "metadata": {},
   "outputs": [
    {
     "data": {
      "text/plain": [
       "57"
      ]
     },
     "execution_count": 40,
     "metadata": {},
     "output_type": "execute_result"
    }
   ],
   "source": [
    "#insert date to Data Frame\n",
    "\n",
    "data.to_sql('VITRINE',con=conn, if_exists='append', index=False)\n",
    "\n"
   ]
  },
  {
   "cell_type": "code",
   "execution_count": 43,
   "id": "a93b23b5",
   "metadata": {},
   "outputs": [],
   "source": [
    "#Update data the columns SQL\n",
    "\n",
    "query=  \"\"\" UPDATE VITRINE\n",
    "            SET scrapy_datetime = '2022-05-05' \"\"\"\n",
    "\n",
    "\n",
    "conn = sqlite3.connect('store_books.sqlite')\n",
    "cursor = conn.execute(query)\n",
    "conn.commit()"
   ]
  },
  {
   "cell_type": "code",
   "execution_count": null,
   "id": "7f9500a1",
   "metadata": {},
   "outputs": [],
   "source": []
  }
 ],
 "metadata": {
  "kernelspec": {
   "display_name": "Python 3 (ipykernel)",
   "language": "python",
   "name": "python3"
  },
  "language_info": {
   "codemirror_mode": {
    "name": "ipython",
    "version": 3
   },
   "file_extension": ".py",
   "mimetype": "text/x-python",
   "name": "python",
   "nbconvert_exporter": "python",
   "pygments_lexer": "ipython3",
   "version": "3.8.10"
  }
 },
 "nbformat": 4,
 "nbformat_minor": 5
}
