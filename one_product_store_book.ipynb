{
 "cells": [
  {
   "cell_type": "code",
   "execution_count": 2,
   "id": "0621d797",
   "metadata": {},
   "outputs": [],
   "source": [
    "import pandas as pd\n",
    "import requests \n",
    "from bs4 import BeautifulSoup\n",
    "import re\n"
   ]
  },
  {
   "cell_type": "code",
   "execution_count": 5,
   "id": "0dcc12fb",
   "metadata": {},
   "outputs": [],
   "source": [
    "url = 'https://books.toscrape.com/catalogue/the-secret-garden_413/index.html'\n",
    "\n",
    "headers = {'User-Agent':'Mozilla/5.0 (Macintosh; Intel Mac OS X 10_11_5) AppleWebKit/537.36 (KHTML, like Gecko) Chrome/50.0.2661.102 Safari/537.36 OPR/37.0.2178.54'}\n",
    "\n",
    "page = requests.get(url,headers = headers)"
   ]
  },
  {
   "cell_type": "code",
   "execution_count": 6,
   "id": "e999a76a",
   "metadata": {},
   "outputs": [],
   "source": [
    "soup= BeautifulSoup(page.text, 'html.parser')"
   ]
  },
  {
   "cell_type": "code",
   "execution_count": 7,
   "id": "955aba00",
   "metadata": {},
   "outputs": [],
   "source": [
    "product_one = soup.find('div',class_='col-sm-6 product_main')"
   ]
  },
  {
   "cell_type": "code",
   "execution_count": null,
   "id": "abdec429",
   "metadata": {},
   "outputs": [],
   "source": []
  },
  {
   "cell_type": "code",
   "execution_count": 19,
   "id": "64f8276c",
   "metadata": {},
   "outputs": [
    {
     "data": {
      "text/plain": [
       "'The Secret Garden'"
      ]
     },
     "execution_count": 19,
     "metadata": {},
     "output_type": "execute_result"
    }
   ],
   "source": [
    "soup.find('li',class_='active').get_text()"
   ]
  },
  {
   "cell_type": "code",
   "execution_count": null,
   "id": "ff1f993f",
   "metadata": {},
   "outputs": [],
   "source": []
  }
 ],
 "metadata": {
  "kernelspec": {
   "display_name": "Python 3 (ipykernel)",
   "language": "python",
   "name": "python3"
  },
  "language_info": {
   "codemirror_mode": {
    "name": "ipython",
    "version": 3
   },
   "file_extension": ".py",
   "mimetype": "text/x-python",
   "name": "python",
   "nbconvert_exporter": "python",
   "pygments_lexer": "ipython3",
   "version": "3.8.10"
  }
 },
 "nbformat": 4,
 "nbformat_minor": 5
}
