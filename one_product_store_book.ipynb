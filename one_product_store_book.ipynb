{
 "cells": [
  {
   "cell_type": "code",
   "execution_count": 17,
   "id": "0621d797",
   "metadata": {},
   "outputs": [],
   "source": [
    "import pandas as pd\n",
    "import requests \n",
    "from bs4 import BeautifulSoup\n",
    "import re\n"
   ]
  },
  {
   "cell_type": "code",
   "execution_count": 30,
   "id": "0dcc12fb",
   "metadata": {},
   "outputs": [],
   "source": [
    "url = 'https://books.toscrape.com/catalogue/the-secret-garden_413/index.html'\n",
    "\n",
    "headers = {'User-Agent':'Mozilla/5.0 (Macintosh; Intel Mac OS X 10_11_5) AppleWebKit/537.36 (KHTML, like Gecko) Chrome/50.0.2661.102 Safari/537.36 OPR/37.0.2178.54'}\n",
    "\n",
    "page = requests.get(url,headers = headers)"
   ]
  },
  {
   "cell_type": "code",
   "execution_count": 31,
   "id": "e999a76a",
   "metadata": {},
   "outputs": [],
   "source": [
    "soup= BeautifulSoup(page.text, 'html.parser')"
   ]
  },
  {
   "cell_type": "code",
   "execution_count": 32,
   "id": "955aba00",
   "metadata": {},
   "outputs": [],
   "source": [
    "product_list = soup.find('div',class_='container-fluid page')"
   ]
  },
  {
   "cell_type": "code",
   "execution_count": 33,
   "id": "64f8276c",
   "metadata": {},
   "outputs": [
    {
     "data": {
      "text/plain": [
       "'The Secret Garden'"
      ]
     },
     "execution_count": 33,
     "metadata": {},
     "output_type": "execute_result"
    }
   ],
   "source": [
    "#name of book\n",
    "product_name = product_list.find('li',class_='active').get_text()\n",
    "product_name"
   ]
  },
  {
   "cell_type": "code",
   "execution_count": 34,
   "id": "ff1f993f",
   "metadata": {},
   "outputs": [
    {
     "data": {
      "text/plain": [
       "'15.08'"
      ]
     },
     "execution_count": 34,
     "metadata": {},
     "output_type": "execute_result"
    }
   ],
   "source": [
    "#price of book\n",
    "\n",
    "product_price= product_list.find('p',class_='price_color').get_text().replace('Â£','')\n",
    "\n",
    "product_price"
   ]
  },
  {
   "cell_type": "code",
   "execution_count": 35,
   "id": "858437e2",
   "metadata": {},
   "outputs": [
    {
     "data": {
      "text/plain": [
       "'Classics'"
      ]
     },
     "execution_count": 35,
     "metadata": {},
     "output_type": "execute_result"
    }
   ],
   "source": [
    "#category of book\n",
    "product_category= product_list.find_all('a')[2].get_text()\n",
    "\n",
    "product_category"
   ]
  },
  {
   "cell_type": "code",
   "execution_count": 36,
   "id": "4b072f6e",
   "metadata": {},
   "outputs": [
    {
     "data": {
      "text/plain": [
       "'In stock'"
      ]
     },
     "execution_count": 36,
     "metadata": {},
     "output_type": "execute_result"
    }
   ],
   "source": [
    "#product in stock\n",
    "product_stock= product_list.find_all('td')[5].string[:8]\n",
    "product_stock"
   ]
  },
  {
   "cell_type": "code",
   "execution_count": 27,
   "id": "b5380391",
   "metadata": {},
   "outputs": [],
   "source": [
    "#number of Availability of book\n",
    "\n",
    "product_availabilty= product_list.find_all('td')[5].string[8:-10].replace('(','')"
   ]
  },
  {
   "cell_type": "code",
   "execution_count": 37,
   "id": "c9d76441",
   "metadata": {},
   "outputs": [
    {
     "data": {
      "text/plain": [
       "' 14 '"
      ]
     },
     "execution_count": 37,
     "metadata": {},
     "output_type": "execute_result"
    }
   ],
   "source": [
    "product_availabilty"
   ]
  },
  {
   "cell_type": "code",
   "execution_count": 38,
   "id": "a44432ce",
   "metadata": {},
   "outputs": [
    {
     "data": {
      "text/html": [
       "<div>\n",
       "<style scoped>\n",
       "    .dataframe tbody tr th:only-of-type {\n",
       "        vertical-align: middle;\n",
       "    }\n",
       "\n",
       "    .dataframe tbody tr th {\n",
       "        vertical-align: top;\n",
       "    }\n",
       "\n",
       "    .dataframe thead th {\n",
       "        text-align: right;\n",
       "    }\n",
       "</style>\n",
       "<table border=\"1\" class=\"dataframe\">\n",
       "  <thead>\n",
       "    <tr style=\"text-align: right;\">\n",
       "      <th></th>\n",
       "      <th>0</th>\n",
       "      <th>1</th>\n",
       "      <th>2</th>\n",
       "      <th>3</th>\n",
       "      <th>4</th>\n",
       "    </tr>\n",
       "  </thead>\n",
       "  <tbody>\n",
       "    <tr>\n",
       "      <th>0</th>\n",
       "      <td>The Secret Garden</td>\n",
       "      <td>Classics</td>\n",
       "      <td>15.08</td>\n",
       "      <td>14</td>\n",
       "      <td>In stock</td>\n",
       "    </tr>\n",
       "  </tbody>\n",
       "</table>\n",
       "</div>"
      ],
      "text/plain": [
       "                   0         1      2     3         4\n",
       "0  The Secret Garden  Classics  15.08   14   In stock"
      ]
     },
     "execution_count": 38,
     "metadata": {},
     "output_type": "execute_result"
    }
   ],
   "source": [
    "pd.DataFrame([product_name,product_category,product_price,product_availabilty,product_stock]).T"
   ]
  },
  {
   "cell_type": "code",
   "execution_count": null,
   "id": "7e92c4fa",
   "metadata": {},
   "outputs": [],
   "source": []
  }
 ],
 "metadata": {
  "kernelspec": {
   "display_name": "Python 3 (ipykernel)",
   "language": "python",
   "name": "python3"
  },
  "language_info": {
   "codemirror_mode": {
    "name": "ipython",
    "version": 3
   },
   "file_extension": ".py",
   "mimetype": "text/x-python",
   "name": "python",
   "nbconvert_exporter": "python",
   "pygments_lexer": "ipython3",
   "version": "3.8.10"
  }
 },
 "nbformat": 4,
 "nbformat_minor": 5
}
