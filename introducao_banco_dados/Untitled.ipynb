{
 "cells": [
  {
   "cell_type": "code",
   "execution_count": 30,
   "id": "8445b4c3",
   "metadata": {},
   "outputs": [],
   "source": [
    "import pandas as pd\n",
    "import sqlite3"
   ]
  },
  {
   "cell_type": "code",
   "execution_count": 9,
   "id": "f174ce2e",
   "metadata": {},
   "outputs": [],
   "source": [
    "data= pd.read_csv('/home/guilherme/Documentos/repos/ds_ao_dev/introducao_banco_dados/products_hm_cleaned.csv')"
   ]
  },
  {
   "cell_type": "code",
   "execution_count": 28,
   "id": "97599923",
   "metadata": {},
   "outputs": [],
   "source": [
    "data = data.drop(['Unnamed: 0'],axis=1)"
   ]
  },
  {
   "cell_type": "code",
   "execution_count": null,
   "id": "8157d5cd",
   "metadata": {},
   "outputs": [],
   "source": [
    "query_showromm_schrem= \"\"\"\" CREATE TABLE\n",
    "        ( product_id         INTEGER, \n",
    "         products_category, \n",
    "         products_name, \n",
    "         products_price,\n",
    "         scrapy_datetime, \n",
    "         stlye_id, \n",
    "         color_id, \n",
    "         color_name, \n",
    "         cotton,\n",
    "         polyester, \n",
    "         elastomultiester,\n",
    "         spandex)\n",
    "\n",
    "\"\"\""
   ]
  },
  {
   "cell_type": "code",
   "execution_count": 32,
   "id": "fd595aa4",
   "metadata": {},
   "outputs": [
    {
     "data": {
      "text/plain": [
       "product_id             int64\n",
       "products_category     object\n",
       "products_name         object\n",
       "products_price       float64\n",
       "scrapy_datetime       object\n",
       "stlye_id               int64\n",
       "color_id               int64\n",
       "color_name            object\n",
       "cotton               float64\n",
       "polyester            float64\n",
       "elastomultiester     float64\n",
       "spandex              float64\n",
       "dtype: object"
      ]
     },
     "execution_count": 32,
     "metadata": {},
     "output_type": "execute_result"
    }
   ],
   "source": [
    "data.dtypes"
   ]
  },
  {
   "cell_type": "code",
   "execution_count": null,
   "id": "a1fb03ca",
   "metadata": {},
   "outputs": [],
   "source": []
  }
 ],
 "metadata": {
  "kernelspec": {
   "display_name": "Python 3 (ipykernel)",
   "language": "python",
   "name": "python3"
  },
  "language_info": {
   "codemirror_mode": {
    "name": "ipython",
    "version": 3
   },
   "file_extension": ".py",
   "mimetype": "text/x-python",
   "name": "python",
   "nbconvert_exporter": "python",
   "pygments_lexer": "ipython3",
   "version": "3.8.10"
  }
 },
 "nbformat": 4,
 "nbformat_minor": 5
}
