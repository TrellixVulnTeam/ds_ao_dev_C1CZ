{
 "cells": [
  {
   "cell_type": "code",
   "execution_count": 1,
   "id": "17d61972",
   "metadata": {},
   "outputs": [],
   "source": [
    "import pandas as pd\n",
    "import sqlite3"
   ]
  },
  {
   "cell_type": "code",
   "execution_count": 48,
   "id": "6a2dd4ab",
   "metadata": {},
   "outputs": [],
   "source": [
    "data= pd.read_csv('/home/guilherme/Documentos/repos/ds_ao_dev/introducao_banco_dados/products_hm_cleaned.csv')"
   ]
  },
  {
   "cell_type": "code",
   "execution_count": 49,
   "id": "3483cc79",
   "metadata": {},
   "outputs": [],
   "source": [
    "data = data.drop(['Unnamed: 0'],axis=1)"
   ]
  },
  {
   "cell_type": "code",
   "execution_count": 50,
   "id": "2c128f72",
   "metadata": {},
   "outputs": [],
   "source": [
    "query_showroom_schrem= \"\"\" \n",
    "    CREATE TABLE VITRO_1\n",
    "        ( product_id         INTEGER, \n",
    "         products_category   TEXT, \n",
    "         products_name       TEXT, \n",
    "         products_price      REAL,\n",
    "         scrapy_datetime     TEXT, \n",
    "         stlye_id            INTEGER, \n",
    "         color_id            INTEGER,\n",
    "         color_name          TEXT, \n",
    "         cotton              REAL,\n",
    "         polyester           REAL, \n",
    "         elastomultiester    REAL,\n",
    "         spandex             REAL )\n",
    "\"\"\""
   ]
  },
  {
   "cell_type": "code",
   "execution_count": 51,
   "id": "8d68a35e",
   "metadata": {},
   "outputs": [],
   "source": [
    "#connect to dataset/ função nativa do pacote sqlite3/ usado para criar o arquivo banco de dados\n",
    "#nesse momento estou criando o banco de dados caso não exista/ se exitist será chamado apenas\n",
    "conn= sqlite3.connect('hm_db.sqlite')\n",
    "\n",
    "#executando a query que eu quero executar/concretizando a chamada da conexão da query\n",
    "cursor= conn.execute(query_showroom_schrem)\n",
    "\n",
    "#concretizandoa execução da query\n",
    "conn.commit()\n",
    "\n",
    "#fechando a conexão \n",
    "#conn.close()"
   ]
  },
  {
   "cell_type": "code",
   "execution_count": 52,
   "id": "137a2caf",
   "metadata": {},
   "outputs": [],
   "source": [
    "#necessario instalar o pacote sqlalchemy\n",
    "\n",
    "#verificar se a query foi devidamente criada/ esse pacote serve para outros bancos de dados\n",
    "from sqlalchemy import create_engine"
   ]
  },
  {
   "cell_type": "code",
   "execution_count": 53,
   "id": "868ab54d",
   "metadata": {},
   "outputs": [],
   "source": [
    "#conectando ao novo pacote/ \n",
    "conn= create_engine('sqlite:///hm_db.sqlite', echo=False)"
   ]
  },
  {
   "cell_type": "code",
   "execution_count": 63,
   "id": "44eb6fc0",
   "metadata": {},
   "outputs": [
    {
     "data": {
      "text/html": [
       "<div>\n",
       "<style scoped>\n",
       "    .dataframe tbody tr th:only-of-type {\n",
       "        vertical-align: middle;\n",
       "    }\n",
       "\n",
       "    .dataframe tbody tr th {\n",
       "        vertical-align: top;\n",
       "    }\n",
       "\n",
       "    .dataframe thead th {\n",
       "        text-align: right;\n",
       "    }\n",
       "</style>\n",
       "<table border=\"1\" class=\"dataframe\">\n",
       "  <thead>\n",
       "    <tr style=\"text-align: right;\">\n",
       "      <th></th>\n",
       "      <th>product_id</th>\n",
       "      <th>products_category</th>\n",
       "      <th>products_name</th>\n",
       "      <th>products_price</th>\n",
       "      <th>scrapy_datetime</th>\n",
       "      <th>stlye_id</th>\n",
       "      <th>color_id</th>\n",
       "      <th>color_name</th>\n",
       "      <th>cotton</th>\n",
       "      <th>polyester</th>\n",
       "      <th>elastomultiester</th>\n",
       "      <th>spandex</th>\n",
       "    </tr>\n",
       "  </thead>\n",
       "  <tbody>\n",
       "    <tr>\n",
       "      <th>0</th>\n",
       "      <td>1024256001</td>\n",
       "      <td>men_jeans_slim</td>\n",
       "      <td>jeans</td>\n",
       "      <td>19.99</td>\n",
       "      <td>2022-04-24 11:00:00-21:30</td>\n",
       "      <td>1024256</td>\n",
       "      <td>1</td>\n",
       "      <td>dark_denim_blue</td>\n",
       "      <td>0.0</td>\n",
       "      <td>0.0</td>\n",
       "      <td>0.0</td>\n",
       "      <td>0.0</td>\n",
       "    </tr>\n",
       "    <tr>\n",
       "      <th>1</th>\n",
       "      <td>1024256001</td>\n",
       "      <td>men_jeans_slim</td>\n",
       "      <td>jeans</td>\n",
       "      <td>19.99</td>\n",
       "      <td>2022-04-24 11:00:00-21:30</td>\n",
       "      <td>1024256</td>\n",
       "      <td>1</td>\n",
       "      <td>black</td>\n",
       "      <td>0.0</td>\n",
       "      <td>0.0</td>\n",
       "      <td>0.0</td>\n",
       "      <td>0.0</td>\n",
       "    </tr>\n",
       "    <tr>\n",
       "      <th>2</th>\n",
       "      <td>1024256001</td>\n",
       "      <td>men_jeans_slim</td>\n",
       "      <td>jeans</td>\n",
       "      <td>19.99</td>\n",
       "      <td>2022-04-24 11:00:00-21:30</td>\n",
       "      <td>1024256</td>\n",
       "      <td>1</td>\n",
       "      <td>light_denim_blue</td>\n",
       "      <td>0.0</td>\n",
       "      <td>0.0</td>\n",
       "      <td>0.0</td>\n",
       "      <td>0.0</td>\n",
       "    </tr>\n",
       "    <tr>\n",
       "      <th>3</th>\n",
       "      <td>1024256001</td>\n",
       "      <td>men_jeans_slim</td>\n",
       "      <td>jeans</td>\n",
       "      <td>19.99</td>\n",
       "      <td>2022-04-24 11:00:00-21:30</td>\n",
       "      <td>1024256</td>\n",
       "      <td>1</td>\n",
       "      <td>denim_blue</td>\n",
       "      <td>0.0</td>\n",
       "      <td>0.0</td>\n",
       "      <td>0.0</td>\n",
       "      <td>0.0</td>\n",
       "    </tr>\n",
       "    <tr>\n",
       "      <th>4</th>\n",
       "      <td>1024256001</td>\n",
       "      <td>men_jeans_slim</td>\n",
       "      <td>jeans</td>\n",
       "      <td>19.99</td>\n",
       "      <td>2022-04-24 11:00:00-21:30</td>\n",
       "      <td>1024256</td>\n",
       "      <td>1</td>\n",
       "      <td>dark_blue</td>\n",
       "      <td>0.0</td>\n",
       "      <td>0.0</td>\n",
       "      <td>0.0</td>\n",
       "      <td>0.0</td>\n",
       "    </tr>\n",
       "  </tbody>\n",
       "</table>\n",
       "</div>"
      ],
      "text/plain": [
       "   product_id products_category products_name  products_price  \\\n",
       "0  1024256001    men_jeans_slim         jeans           19.99   \n",
       "1  1024256001    men_jeans_slim         jeans           19.99   \n",
       "2  1024256001    men_jeans_slim         jeans           19.99   \n",
       "3  1024256001    men_jeans_slim         jeans           19.99   \n",
       "4  1024256001    men_jeans_slim         jeans           19.99   \n",
       "\n",
       "             scrapy_datetime  stlye_id  color_id        color_name  cotton  \\\n",
       "0  2022-04-24 11:00:00-21:30   1024256         1   dark_denim_blue     0.0   \n",
       "1  2022-04-24 11:00:00-21:30   1024256         1             black     0.0   \n",
       "2  2022-04-24 11:00:00-21:30   1024256         1  light_denim_blue     0.0   \n",
       "3  2022-04-24 11:00:00-21:30   1024256         1        denim_blue     0.0   \n",
       "4  2022-04-24 11:00:00-21:30   1024256         1         dark_blue     0.0   \n",
       "\n",
       "   polyester  elastomultiester  spandex  \n",
       "0        0.0               0.0      0.0  \n",
       "1        0.0               0.0      0.0  \n",
       "2        0.0               0.0      0.0  \n",
       "3        0.0               0.0      0.0  \n",
       "4        0.0               0.0      0.0  "
      ]
     },
     "execution_count": 63,
     "metadata": {},
     "output_type": "execute_result"
    }
   ],
   "source": [
    "#selecionando as colunas/dados que preciso manipular\n",
    "\n",
    "query= \"\"\" SELECT * FROM VITRO_2 \"\"\"\n",
    "\n",
    "\n",
    "df = pd.read_sql_query(query,conn)\n",
    "\n",
    "df.head()"
   ]
  },
  {
   "cell_type": "code",
   "execution_count": 55,
   "id": "3caba831",
   "metadata": {},
   "outputs": [
    {
     "data": {
      "text/plain": [
       "581"
      ]
     },
     "execution_count": 55,
     "metadata": {},
     "output_type": "execute_result"
    }
   ],
   "source": [
    "#insert data to table\n",
    "\n",
    "data.to_sql('VITRO_1',con=conn, if_exists='append', index=False)"
   ]
  },
  {
   "cell_type": "code",
   "execution_count": 58,
   "id": "68bc40b2",
   "metadata": {},
   "outputs": [],
   "source": [
    "# fazendo os testes de comandos SQL\n",
    "\n",
    "#UPDATE (ATUALIZAR DADOS NA TABELA)\n",
    "\n",
    "#query= \"\"\"\n",
    "        #UPDATE VITRO_1 \n",
    "        #SET products_name = 'jeans'\n",
    "        #WHERE product_id = 1024256001\n",
    "        #\"\"\"\n",
    "\n",
    "\n",
    "#conn = sqlite3.connect( 'hm_db.sqlite' )\n",
    "#cursor = conn.execute( query )\n",
    "#conn.commit()"
   ]
  },
  {
   "cell_type": "code",
   "execution_count": 46,
   "id": "73a76539",
   "metadata": {},
   "outputs": [],
   "source": [
    "## Command - DROP TABLE (EXLUIR A TABELA)\n",
    "#query = \"\"\"\n",
    "        # DROP TABLE VITRO_1\n",
    "#\"\"\"\n",
    "\n",
    "#conn = sqlite3.connect( 'hm_db.sqlite' )\n",
    "#cursor = conn.execute( query )\n",
    "#conn.commit()"
   ]
  },
  {
   "cell_type": "code",
   "execution_count": 61,
   "id": "9ad9bd6c",
   "metadata": {},
   "outputs": [],
   "source": [
    "#COMAND ALTER TABLE (ALTERAR NOME DA TABELA)\n",
    "\n",
    "query = \"\"\" ALTER TABLE VITRO_1\n",
    "            RENAME TO VITRO_2\"\"\"\n",
    "\n",
    "conn = sqlite3.connect( 'hm_db.sqlite' )\n",
    "cursor = conn.execute( query )\n",
    "conn.commit()\n"
   ]
  },
  {
   "cell_type": "code",
   "execution_count": null,
   "id": "a7168bab",
   "metadata": {},
   "outputs": [],
   "source": []
  }
 ],
 "metadata": {
  "kernelspec": {
   "display_name": "Python 3 (ipykernel)",
   "language": "python",
   "name": "python3"
  },
  "language_info": {
   "codemirror_mode": {
    "name": "ipython",
    "version": 3
   },
   "file_extension": ".py",
   "mimetype": "text/x-python",
   "name": "python",
   "nbconvert_exporter": "python",
   "pygments_lexer": "ipython3",
   "version": "3.8.10"
  }
 },
 "nbformat": 4,
 "nbformat_minor": 5
}
