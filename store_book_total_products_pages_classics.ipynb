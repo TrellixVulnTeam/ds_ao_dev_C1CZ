{
 "cells": [
  {
   "cell_type": "code",
   "execution_count": 1,
   "id": "46761e18",
   "metadata": {},
   "outputs": [],
   "source": [
    "import requests\n",
    "import pandas as pd\n",
    "import numpy as np\n",
    "import math\n",
    "from bs4 import BeautifulSoup\n",
    "from datetime import datetime"
   ]
  },
  {
   "cell_type": "code",
   "execution_count": 2,
   "id": "3bc52464",
   "metadata": {},
   "outputs": [
    {
     "data": {
      "text/plain": [
       "'19'"
      ]
     },
     "execution_count": 2,
     "metadata": {},
     "output_type": "execute_result"
    }
   ],
   "source": [
    "#this is first part to load the data\n",
    "\n",
    "url = 'https://books.toscrape.com/catalogue/category/books/classics_6'\n",
    "\n",
    "headers = {'User-Agent':'Mozilla/5.0 (Macintosh; Intel Mac OS X 10_11_5) AppleWebKit/537.36 (KHTML, like Gecko) Chrome/50.0.2661.102 Safari/537.36 OPR/37.0.2178.54'}\n",
    "\n",
    "page = requests.get( url, headers=headers )\n",
    "\n",
    "\n",
    "soup= BeautifulSoup(page.text,'html.parser')\n",
    "\n",
    "#coletando total de itens da pagina\n",
    "\n",
    "total_itens= soup.find_all('strong')[1].get_text()\n",
    "\n",
    "total_itens\n"
   ]
  },
  {
   "cell_type": "code",
   "execution_count": 111,
   "id": "e6e25001",
   "metadata": {},
   "outputs": [],
   "source": [
    "#future will be colected for to make more pages\n",
    "\n",
    "#nnumber total of pages numbers\n",
    "\n",
    "page_number= math.ceil(int(total_itens)/20)\n",
    "\n",
    "page_number\n",
    "\n",
    "url02 = url + '/page-'+ str(page_number)+'.html'"
   ]
  },
  {
   "cell_type": "code",
   "execution_count": 105,
   "id": "074be59e",
   "metadata": {},
   "outputs": [
    {
     "data": {
      "text/plain": [
       "'19'"
      ]
     },
     "execution_count": 105,
     "metadata": {},
     "output_type": "execute_result"
    }
   ],
   "source": []
  },
  {
   "cell_type": "code",
   "execution_count": 110,
   "id": "9a234609",
   "metadata": {},
   "outputs": [],
   "source": []
  },
  {
   "cell_type": "code",
   "execution_count": 109,
   "id": "338f39b9",
   "metadata": {},
   "outputs": [],
   "source": [
    "\n",
    "\n",
    "\n"
   ]
  },
  {
   "cell_type": "code",
   "execution_count": null,
   "id": "1a557acb",
   "metadata": {},
   "outputs": [],
   "source": []
  },
  {
   "cell_type": "code",
   "execution_count": null,
   "id": "9d1e8eb0",
   "metadata": {},
   "outputs": [],
   "source": []
  }
 ],
 "metadata": {
  "kernelspec": {
   "display_name": "Python 3 (ipykernel)",
   "language": "python",
   "name": "python3"
  },
  "language_info": {
   "codemirror_mode": {
    "name": "ipython",
    "version": 3
   },
   "file_extension": ".py",
   "mimetype": "text/x-python",
   "name": "python",
   "nbconvert_exporter": "python",
   "pygments_lexer": "ipython3",
   "version": "3.8.10"
  }
 },
 "nbformat": 4,
 "nbformat_minor": 5
}
