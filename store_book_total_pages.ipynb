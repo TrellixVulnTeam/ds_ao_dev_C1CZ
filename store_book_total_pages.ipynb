{
 "cells": [
  {
   "cell_type": "code",
   "execution_count": 1,
   "id": "c0850961",
   "metadata": {},
   "outputs": [],
   "source": [
    "import requests\n",
    "import pandas as pd\n",
    "import numpy as np\n",
    "import math\n",
    "from bs4 import BeautifulSoup\n",
    "from datetime import datetime"
   ]
  },
  {
   "cell_type": "code",
   "execution_count": 83,
   "id": "3beae39e",
   "metadata": {},
   "outputs": [],
   "source": [
    "#url = 'https://books.toscrape.com/catalogue/category/books/classics_6/index.html'\n",
    "url = 'https://books.toscrape.com/catalogue/category/books/fantasy_19'\n",
    "headers = {'User-Agent':'Mozilla/5.0 (Macintosh; Intel Mac OS X 10_11_5) AppleWebKit/537.36 (KHTML, like Gecko) Chrome/50.0.2661.102 Safari/537.36 OPR/37.0.2178.54'}\n",
    "\n",
    "page = requests.get( url, headers=headers )"
   ]
  },
  {
   "cell_type": "code",
   "execution_count": 84,
   "id": "9057764b",
   "metadata": {},
   "outputs": [],
   "source": [
    "soup= BeautifulSoup(page.text,'html.parser')"
   ]
  },
  {
   "cell_type": "code",
   "execution_count": 88,
   "id": "35cb23ac",
   "metadata": {},
   "outputs": [
    {
     "data": {
      "text/plain": [
       "'48'"
      ]
     },
     "execution_count": 88,
     "metadata": {},
     "output_type": "execute_result"
    }
   ],
   "source": [
    "#coletando total de itens da pagina\n",
    "\n",
    "total_itens= soup.find_all('strong')[1].get_text()\n",
    "\n",
    "total_itens"
   ]
  },
  {
   "cell_type": "code",
   "execution_count": 87,
   "id": "0ff7041b",
   "metadata": {},
   "outputs": [
    {
     "data": {
      "text/plain": [
       "3"
      ]
     },
     "execution_count": 87,
     "metadata": {},
     "output_type": "execute_result"
    }
   ],
   "source": [
    "#nnumber total of pages numbers\n",
    "\n",
    "page_number= math.ceil(int(total_itens)/20)\n",
    "\n",
    "page_number"
   ]
  },
  {
   "cell_type": "code",
   "execution_count": 89,
   "id": "2ed52379",
   "metadata": {},
   "outputs": [],
   "source": [
    "url02 = url + '/page-'+ str(page_number)+'.html'\n",
    "\n",
    "\n",
    "#'page-2.html'\n",
    "\n",
    "#https://books.toscrape.com/catalogue/category/books/fantasy_19/page-2.html"
   ]
  },
  {
   "cell_type": "code",
   "execution_count": 90,
   "id": "d78ba6db",
   "metadata": {},
   "outputs": [
    {
     "data": {
      "text/plain": [
       "'https://books.toscrape.com/catalogue/category/books/fantasy_19/page-3.html'"
      ]
     },
     "execution_count": 90,
     "metadata": {},
     "output_type": "execute_result"
    }
   ],
   "source": [
    "url02"
   ]
  },
  {
   "cell_type": "code",
   "execution_count": null,
   "id": "2ae13aac",
   "metadata": {},
   "outputs": [],
   "source": []
  }
 ],
 "metadata": {
  "kernelspec": {
   "display_name": "Python 3 (ipykernel)",
   "language": "python",
   "name": "python3"
  },
  "language_info": {
   "codemirror_mode": {
    "name": "ipython",
    "version": 3
   },
   "file_extension": ".py",
   "mimetype": "text/x-python",
   "name": "python",
   "nbconvert_exporter": "python",
   "pygments_lexer": "ipython3",
   "version": "3.8.10"
  }
 },
 "nbformat": 4,
 "nbformat_minor": 5
}
