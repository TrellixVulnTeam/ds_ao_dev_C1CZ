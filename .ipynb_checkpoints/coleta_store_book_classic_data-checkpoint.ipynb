{
 "cells": [
  {
   "cell_type": "code",
   "execution_count": 2,
   "id": "7b1193b5",
   "metadata": {},
   "outputs": [],
   "source": [
    "import requests\n",
    "import pandas as pd\n",
    "import numpy as np\n",
    "import math\n",
    "from bs4 import BeautifulSoup\n",
    "from datetime import datetime"
   ]
  },
  {
   "cell_type": "code",
   "execution_count": 4,
   "id": "4f1e898b",
   "metadata": {},
   "outputs": [
    {
     "data": {
      "text/plain": [
       "'19'"
      ]
     },
     "execution_count": 4,
     "metadata": {},
     "output_type": "execute_result"
    }
   ],
   "source": [
    "#this is first part to load the data\n",
    "\n",
    "url = 'https://books.toscrape.com/catalogue/category/books/classics_6'\n",
    "\n",
    "headers = {'User-Agent':'Mozilla/5.0 (Macintosh; Intel Mac OS X 10_11_5) AppleWebKit/537.36 (KHTML, like Gecko) Chrome/50.0.2661.102 Safari/537.36 OPR/37.0.2178.54'}\n",
    "\n",
    "page = requests.get( url, headers=headers )\n",
    "\n",
    "\n",
    "soup= BeautifulSoup(page.text,'html.parser')\n",
    "\n",
    "#coletando total de itens da pagina\n",
    "\n",
    "total_itens= soup.find_all('strong')[1].get_text()\n",
    "\n",
    "total_itens"
   ]
  },
  {
   "cell_type": "code",
   "execution_count": 5,
   "id": "fe8ba579",
   "metadata": {},
   "outputs": [],
   "source": [
    "url = url\n",
    "\n",
    "headers = {'User-Agent':'Mozilla/5.0 (Macintosh; Intel Mac OS X 10_11_5) AppleWebKit/537.36 (KHTML, like Gecko) Chrome/50.0.2661.102 Safari/537.36 OPR/37.0.2178.54'}\n",
    "\n",
    "page = requests.get(url,headers = headers)\n",
    "\n",
    "soup= BeautifulSoup(page.text, 'html.parser')\n",
    "\n",
    "products_page_inicial = soup.find('ol',class_='row')\n",
    "\n",
    "#price of books\n",
    "price_regular= products_page_inicial.find_all('p',class_='price_color')\n",
    "product_price= [p.get_text().replace('Â£','') for p in price_regular]\n",
    "\n",
    "#product in stock\n",
    "stock= products_page_inicial.find_all('p',class_='instock availability')\n",
    "\n",
    "product_stock= [p.text[15:-6] for p in stock]\n",
    "\n",
    "data= pd.DataFrame([product_price,product_stock]).T\n",
    "\n",
    "data.columns= ['product_price','product_stock']\n",
    "\n",
    "data['scrapy_datetime'] = datetime.now().strftime('%Y-%m-%d-%H-%M-%S')"
   ]
  },
  {
   "cell_type": "code",
   "execution_count": 7,
   "id": "5cec0000",
   "metadata": {},
   "outputs": [
    {
     "data": {
      "text/html": [
       "<div>\n",
       "<style scoped>\n",
       "    .dataframe tbody tr th:only-of-type {\n",
       "        vertical-align: middle;\n",
       "    }\n",
       "\n",
       "    .dataframe tbody tr th {\n",
       "        vertical-align: top;\n",
       "    }\n",
       "\n",
       "    .dataframe thead th {\n",
       "        text-align: right;\n",
       "    }\n",
       "</style>\n",
       "<table border=\"1\" class=\"dataframe\">\n",
       "  <thead>\n",
       "    <tr style=\"text-align: right;\">\n",
       "      <th></th>\n",
       "      <th>product_price</th>\n",
       "      <th>product_stock</th>\n",
       "      <th>scrapy_datetime</th>\n",
       "    </tr>\n",
       "  </thead>\n",
       "  <tbody>\n",
       "    <tr>\n",
       "      <th>0</th>\n",
       "      <td>15.08</td>\n",
       "      <td>In stock</td>\n",
       "      <td>2022-04-18-20-59-31</td>\n",
       "    </tr>\n",
       "    <tr>\n",
       "      <th>1</th>\n",
       "      <td>28.58</td>\n",
       "      <td>In stock</td>\n",
       "      <td>2022-04-18-20-59-31</td>\n",
       "    </tr>\n",
       "    <tr>\n",
       "      <th>2</th>\n",
       "      <td>50.26</td>\n",
       "      <td>In stock</td>\n",
       "      <td>2022-04-18-20-59-31</td>\n",
       "    </tr>\n",
       "    <tr>\n",
       "      <th>3</th>\n",
       "      <td>14.82</td>\n",
       "      <td>In stock</td>\n",
       "      <td>2022-04-18-20-59-31</td>\n",
       "    </tr>\n",
       "    <tr>\n",
       "      <th>4</th>\n",
       "      <td>28.07</td>\n",
       "      <td>In stock</td>\n",
       "      <td>2022-04-18-20-59-31</td>\n",
       "    </tr>\n",
       "  </tbody>\n",
       "</table>\n",
       "</div>"
      ],
      "text/plain": [
       "  product_price product_stock      scrapy_datetime\n",
       "0         15.08      In stock  2022-04-18-20-59-31\n",
       "1         28.58      In stock  2022-04-18-20-59-31\n",
       "2         50.26      In stock  2022-04-18-20-59-31\n",
       "3         14.82      In stock  2022-04-18-20-59-31\n",
       "4         28.07      In stock  2022-04-18-20-59-31"
      ]
     },
     "execution_count": 7,
     "metadata": {},
     "output_type": "execute_result"
    }
   ],
   "source": [
    "data.head()"
   ]
  },
  {
   "cell_type": "code",
   "execution_count": 11,
   "id": "eb33bc59",
   "metadata": {},
   "outputs": [
    {
     "data": {
      "text/plain": [
       "'Classics'"
      ]
     },
     "execution_count": 11,
     "metadata": {},
     "output_type": "execute_result"
    }
   ],
   "source": [
    "product_list = soup.find('div',class_='container-fluid page')\n",
    "\n",
    "#name of book\n",
    "product_name = product_list.find('li',class_='active').get_text()\n",
    "product_name\n",
    "\n",
    "#terceira parte/ observar a coleta"
   ]
  },
  {
   "cell_type": "code",
   "execution_count": 12,
   "id": "e0882254",
   "metadata": {},
   "outputs": [
    {
     "data": {
      "text/plain": [
       "'Classics'"
      ]
     },
     "execution_count": 12,
     "metadata": {},
     "output_type": "execute_result"
    }
   ],
   "source": [
    "product_name"
   ]
  },
  {
   "cell_type": "code",
   "execution_count": null,
   "id": "8f46c0f6",
   "metadata": {},
   "outputs": [],
   "source": []
  }
 ],
 "metadata": {
  "kernelspec": {
   "display_name": "Python 3 (ipykernel)",
   "language": "python",
   "name": "python3"
  },
  "language_info": {
   "codemirror_mode": {
    "name": "ipython",
    "version": 3
   },
   "file_extension": ".py",
   "mimetype": "text/x-python",
   "name": "python",
   "nbconvert_exporter": "python",
   "pygments_lexer": "ipython3",
   "version": "3.8.10"
  }
 },
 "nbformat": 4,
 "nbformat_minor": 5
}
