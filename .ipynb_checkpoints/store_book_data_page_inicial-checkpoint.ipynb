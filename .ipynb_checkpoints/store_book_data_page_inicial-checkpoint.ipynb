{
 "cells": [
  {
   "cell_type": "code",
   "execution_count": 1,
   "id": "b7a90819",
   "metadata": {},
   "outputs": [],
   "source": [
    "import requests\n",
    "import pandas as pd\n",
    "import numpy as np\n",
    "import math\n",
    "from bs4 import BeautifulSoup\n",
    "from datetime import datetime\n",
    "\n",
    "\n"
   ]
  },
  {
   "cell_type": "code",
   "execution_count": 2,
   "id": "5df4e3b9",
   "metadata": {},
   "outputs": [],
   "source": [
    "url = 'https://books.toscrape.com/catalogue/category/books/classics_6/index.html'\n",
    "\n",
    "headers = {'User-Agent':'Mozilla/5.0 (Macintosh; Intel Mac OS X 10_11_5) AppleWebKit/537.36 (KHTML, like Gecko) Chrome/50.0.2661.102 Safari/537.36 OPR/37.0.2178.54'}\n",
    "\n",
    "page = requests.get(url,headers = headers)\n",
    "\n",
    "soup= BeautifulSoup(page.text, 'html.parser')"
   ]
  },
  {
   "cell_type": "code",
   "execution_count": 3,
   "id": "9559f945",
   "metadata": {},
   "outputs": [],
   "source": [
    "products_page_inicial = soup.find('ol',class_='row')"
   ]
  },
  {
   "cell_type": "code",
   "execution_count": 16,
   "id": "a9fe380a",
   "metadata": {},
   "outputs": [
    {
     "data": {
      "text/plain": [
       "[<a href=\"../../../the-secret-garden_413/index.html\"><img alt=\"The Secret Garden\" class=\"thumbnail\" src=\"../../../../media/cache/c5/46/c5465a06182ed6ebfa40d049258a2f58.jpg\"/></a>,\n",
       " <a href=\"../../../the-secret-garden_413/index.html\" title=\"The Secret Garden\">The Secret Garden</a>,\n",
       " <a href=\"../../../the-metamorphosis_409/index.html\"><img alt=\"The Metamorphosis\" class=\"thumbnail\" src=\"../../../../media/cache/4a/1b/4a1b6e9c1af75db0dc34ae63344f6883.jpg\"/></a>,\n",
       " <a href=\"../../../the-metamorphosis_409/index.html\" title=\"The Metamorphosis\">The Metamorphosis</a>,\n",
       " <a href=\"../../../the-pilgrims-progress_353/index.html\"><img alt=\"The Pilgrim's Progress\" class=\"thumbnail\" src=\"../../../../media/cache/45/bb/45bb59d19eb3aa868293d44809078418.jpg\"/></a>,\n",
       " <a href=\"../../../the-pilgrims-progress_353/index.html\" title=\"The Pilgrim's Progress\">The Pilgrim's Progress</a>,\n",
       " <a href=\"../../../the-hound-of-the-baskervilles-sherlock-holmes-5_348/index.html\"><img alt=\"The Hound of the Baskervilles (Sherlock Holmes #5)\" class=\"thumbnail\" src=\"../../../../media/cache/1f/b0/1fb03cdabe6001c8a2620f65e025cbd5.jpg\"/></a>,\n",
       " <a href=\"../../../the-hound-of-the-baskervilles-sherlock-holmes-5_348/index.html\" title=\"The Hound of the Baskervilles (Sherlock Holmes #5)\">The Hound of the ...</a>,\n",
       " <a href=\"../../../little-women-little-women-1_331/index.html\"><img alt=\"Little Women (Little Women #1)\" class=\"thumbnail\" src=\"../../../../media/cache/81/f5/81f559ebe403317226fa8b611e35ce8a.jpg\"/></a>,\n",
       " <a href=\"../../../little-women-little-women-1_331/index.html\" title=\"Little Women (Little Women #1)\">Little Women (Little Women ...</a>,\n",
       " <a href=\"../../../gone-with-the-wind_324/index.html\"><img alt=\"Gone with the Wind\" class=\"thumbnail\" src=\"../../../../media/cache/27/82/2782701b5c877cb063065b9fc14c5b13.jpg\"/></a>,\n",
       " <a href=\"../../../gone-with-the-wind_324/index.html\" title=\"Gone with the Wind\">Gone with the Wind</a>,\n",
       " <a href=\"../../../candide_316/index.html\"><img alt=\"Candide\" class=\"thumbnail\" src=\"../../../../media/cache/e3/c4/e3c4aba2409bb769a6488805e3fc4709.jpg\"/></a>,\n",
       " <a href=\"../../../candide_316/index.html\" title=\"Candide\">Candide</a>,\n",
       " <a href=\"../../../animal-farm_313/index.html\"><img alt=\"Animal Farm\" class=\"thumbnail\" src=\"../../../../media/cache/10/db/10db56354b4550d92270c6f097d9bebc.jpg\"/></a>,\n",
       " <a href=\"../../../animal-farm_313/index.html\" title=\"Animal Farm\">Animal Farm</a>,\n",
       " <a href=\"../../../wuthering-heights_307/index.html\"><img alt=\"Wuthering Heights\" class=\"thumbnail\" src=\"../../../../media/cache/93/4e/934e966c1ddf559d3ac2b5c1407aaf1e.jpg\"/></a>,\n",
       " <a href=\"../../../wuthering-heights_307/index.html\" title=\"Wuthering Heights\">Wuthering Heights</a>,\n",
       " <a href=\"../../../the-picture-of-dorian-gray_270/index.html\"><img alt=\"The Picture of Dorian Gray\" class=\"thumbnail\" src=\"../../../../media/cache/a6/72/a67245346daa38c2b23a4fc64c6e7115.jpg\"/></a>,\n",
       " <a href=\"../../../the-picture-of-dorian-gray_270/index.html\" title=\"The Picture of Dorian Gray\">The Picture of Dorian ...</a>,\n",
       " <a href=\"../../../the-complete-stories-and-poems-the-works-of-edgar-allan-poe-cameo-edition_238/index.html\"><img alt=\"The Complete Stories and Poems (The Works of Edgar Allan Poe [Cameo Edition])\" class=\"thumbnail\" src=\"../../../../media/cache/42/c4/42c48f11b7e70a0f76c5ba9cb5c5018a.jpg\"/></a>,\n",
       " <a href=\"../../../the-complete-stories-and-poems-the-works-of-edgar-allan-poe-cameo-edition_238/index.html\" title=\"The Complete Stories and Poems (The Works of Edgar Allan Poe [Cameo Edition])\">The Complete Stories and ...</a>,\n",
       " <a href=\"../../../beowulf_126/index.html\"><img alt=\"Beowulf\" class=\"thumbnail\" src=\"../../../../media/cache/dd/6e/dd6e7b84e99f3b4b5655ea0db74af2b4.jpg\"/></a>,\n",
       " <a href=\"../../../beowulf_126/index.html\" title=\"Beowulf\">Beowulf</a>,\n",
       " <a href=\"../../../and-then-there-were-none_119/index.html\"><img alt=\"And Then There Were None\" class=\"thumbnail\" src=\"../../../../media/cache/21/bf/21bf2eb0bff3134837def8bd40845ba0.jpg\"/></a>,\n",
       " <a href=\"../../../and-then-there-were-none_119/index.html\" title=\"And Then There Were None\">And Then There Were ...</a>,\n",
       " <a href=\"../../../the-story-of-hong-gildong_84/index.html\"><img alt=\"The Story of Hong Gildong\" class=\"thumbnail\" src=\"../../../../media/cache/ab/16/ab16eb035cc58809a73c4699477de9cb.jpg\"/></a>,\n",
       " <a href=\"../../../the-story-of-hong-gildong_84/index.html\" title=\"The Story of Hong Gildong\">The Story of Hong ...</a>,\n",
       " <a href=\"../../../the-little-prince_72/index.html\"><img alt=\"The Little Prince\" class=\"thumbnail\" src=\"../../../../media/cache/c0/78/c078355608dd81c7c5e4f5e1c5f73d23.jpg\"/></a>,\n",
       " <a href=\"../../../the-little-prince_72/index.html\" title=\"The Little Prince\">The Little Prince</a>,\n",
       " <a href=\"../../../sense-and-sensibility_49/index.html\"><img alt=\"Sense and Sensibility\" class=\"thumbnail\" src=\"../../../../media/cache/7d/53/7d53e2264b9647ee307259be9f73585d.jpg\"/></a>,\n",
       " <a href=\"../../../sense-and-sensibility_49/index.html\" title=\"Sense and Sensibility\">Sense and Sensibility</a>,\n",
       " <a href=\"../../../of-mice-and-men_37/index.html\"><img alt=\"Of Mice and Men\" class=\"thumbnail\" src=\"../../../../media/cache/0f/ca/0fca4597765ffacdb7bd529fc5eb88fa.jpg\"/></a>,\n",
       " <a href=\"../../../of-mice-and-men_37/index.html\" title=\"Of Mice and Men\">Of Mice and Men</a>,\n",
       " <a href=\"../../../emma_17/index.html\"><img alt=\"Emma\" class=\"thumbnail\" src=\"../../../../media/cache/09/63/09638baaef52f03827c215029c632a13.jpg\"/></a>,\n",
       " <a href=\"../../../emma_17/index.html\" title=\"Emma\">Emma</a>,\n",
       " <a href=\"../../../alice-in-wonderland-alices-adventures-in-wonderland-1_5/index.html\"><img alt=\"Alice in Wonderland (Alice's Adventures in Wonderland #1)\" class=\"thumbnail\" src=\"../../../../media/cache/96/ee/96ee77d71a31b7694dac6855f6affe4e.jpg\"/></a>,\n",
       " <a href=\"../../../alice-in-wonderland-alices-adventures-in-wonderland-1_5/index.html\" title=\"Alice in Wonderland (Alice's Adventures in Wonderland #1)\">Alice in Wonderland (Alice's ...</a>]"
      ]
     },
     "execution_count": 16,
     "metadata": {},
     "output_type": "execute_result"
    }
   ],
   "source": [
    "#https://stackoverflow.com/questions/43814754/python-beautifulsoup-how-to-get-href-attribute-of-a-element\n",
    "    \n",
    "#https://www.google.com/search?q=how+to+extract+href+using+beautifulsoup&oq=how+extract+href&aqs=chrome.1.69i57j0i22i30l4.13622j0j7&sourceid=chrome&ie=UTF-8\n",
    "#products_page_inicial.find_all('a',href=True)"
   ]
  },
  {
   "cell_type": "code",
   "execution_count": 16,
   "id": "1397bfaa",
   "metadata": {},
   "outputs": [],
   "source": [
    "#price of books\n",
    "price_regular= products_page_inicial.find_all('p',class_='price_color')\n",
    "product_price= [p.get_text().replace('Â£','') for p in price_regular]"
   ]
  },
  {
   "cell_type": "code",
   "execution_count": 63,
   "id": "a3eebf8b",
   "metadata": {},
   "outputs": [],
   "source": [
    "#product in stock\n",
    "stock= products_page_inicial.find_all('p',class_='instock availability')\n",
    "\n",
    "product_stock= [p.text[15:-6] for p in stock]"
   ]
  },
  {
   "cell_type": "code",
   "execution_count": 71,
   "id": "6727fdd0",
   "metadata": {},
   "outputs": [],
   "source": [
    "data= pd.DataFrame([product_price,product_stock]).T\n",
    "\n",
    "data.columns= ['product_price','product_stock']\n",
    "\n",
    "data['scrapy_datetime'] = datetime.now().strftime('%Y-%m-%d-%H-%M-%S')"
   ]
  },
  {
   "cell_type": "code",
   "execution_count": 73,
   "id": "9aa25f5c",
   "metadata": {},
   "outputs": [
    {
     "data": {
      "text/html": [
       "<div>\n",
       "<style scoped>\n",
       "    .dataframe tbody tr th:only-of-type {\n",
       "        vertical-align: middle;\n",
       "    }\n",
       "\n",
       "    .dataframe tbody tr th {\n",
       "        vertical-align: top;\n",
       "    }\n",
       "\n",
       "    .dataframe thead th {\n",
       "        text-align: right;\n",
       "    }\n",
       "</style>\n",
       "<table border=\"1\" class=\"dataframe\">\n",
       "  <thead>\n",
       "    <tr style=\"text-align: right;\">\n",
       "      <th></th>\n",
       "      <th>product_price</th>\n",
       "      <th>product_stock</th>\n",
       "      <th>scrapy_datetime</th>\n",
       "    </tr>\n",
       "  </thead>\n",
       "  <tbody>\n",
       "    <tr>\n",
       "      <th>0</th>\n",
       "      <td>15.08</td>\n",
       "      <td>In stock</td>\n",
       "      <td>2022-04-18-20-48-54</td>\n",
       "    </tr>\n",
       "    <tr>\n",
       "      <th>1</th>\n",
       "      <td>28.58</td>\n",
       "      <td>In stock</td>\n",
       "      <td>2022-04-18-20-48-54</td>\n",
       "    </tr>\n",
       "    <tr>\n",
       "      <th>2</th>\n",
       "      <td>50.26</td>\n",
       "      <td>In stock</td>\n",
       "      <td>2022-04-18-20-48-54</td>\n",
       "    </tr>\n",
       "    <tr>\n",
       "      <th>3</th>\n",
       "      <td>14.82</td>\n",
       "      <td>In stock</td>\n",
       "      <td>2022-04-18-20-48-54</td>\n",
       "    </tr>\n",
       "    <tr>\n",
       "      <th>4</th>\n",
       "      <td>28.07</td>\n",
       "      <td>In stock</td>\n",
       "      <td>2022-04-18-20-48-54</td>\n",
       "    </tr>\n",
       "  </tbody>\n",
       "</table>\n",
       "</div>"
      ],
      "text/plain": [
       "  product_price product_stock      scrapy_datetime\n",
       "0         15.08      In stock  2022-04-18-20-48-54\n",
       "1         28.58      In stock  2022-04-18-20-48-54\n",
       "2         50.26      In stock  2022-04-18-20-48-54\n",
       "3         14.82      In stock  2022-04-18-20-48-54\n",
       "4         28.07      In stock  2022-04-18-20-48-54"
      ]
     },
     "execution_count": 73,
     "metadata": {},
     "output_type": "execute_result"
    }
   ],
   "source": [
    "data.head()"
   ]
  },
  {
   "cell_type": "code",
   "execution_count": null,
   "id": "6b05b681",
   "metadata": {},
   "outputs": [],
   "source": []
  },
  {
   "cell_type": "code",
   "execution_count": null,
   "id": "39a3d33c",
   "metadata": {},
   "outputs": [],
   "source": []
  },
  {
   "cell_type": "code",
   "execution_count": null,
   "id": "d6ed40fb",
   "metadata": {},
   "outputs": [],
   "source": []
  },
  {
   "cell_type": "code",
   "execution_count": null,
   "id": "50eaa49d",
   "metadata": {},
   "outputs": [],
   "source": []
  },
  {
   "cell_type": "code",
   "execution_count": null,
   "id": "189cd34c",
   "metadata": {},
   "outputs": [],
   "source": []
  }
 ],
 "metadata": {
  "kernelspec": {
   "display_name": "Python 3 (ipykernel)",
   "language": "python",
   "name": "python3"
  },
  "language_info": {
   "codemirror_mode": {
    "name": "ipython",
    "version": 3
   },
   "file_extension": ".py",
   "mimetype": "text/x-python",
   "name": "python",
   "nbconvert_exporter": "python",
   "pygments_lexer": "ipython3",
   "version": "3.8.10"
  }
 },
 "nbformat": 4,
 "nbformat_minor": 5
}
