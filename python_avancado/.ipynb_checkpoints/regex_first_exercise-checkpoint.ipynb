{
 "cells": [
  {
   "cell_type": "code",
   "execution_count": 20,
   "id": "0a94ac00",
   "metadata": {},
   "outputs": [],
   "source": [
    "import re"
   ]
  },
  {
   "cell_type": "code",
   "execution_count": 24,
   "id": "065631b8",
   "metadata": {},
   "outputs": [],
   "source": [
    "#text00 = '234.745.735-42'\n",
    "text01 = 'Rua Armando Shibata, 97 - Vila Leopolding, São Paulo'\n",
    "text02 = 'Av. dos trabalhadores, 403 - Centro, Mogi Guaçu'\n",
    "text03 = 'Al. Moraes, 90 - Vila Golmes, Pernambuco'\n",
    "\n",
    "\n",
    "text= [text01, text02, text03]"
   ]
  },
  {
   "cell_type": "code",
   "execution_count": 26,
   "id": "5b2951aa",
   "metadata": {},
   "outputs": [
    {
     "name": "stdout",
     "output_type": "stream",
     "text": [
      "Rua Armando Shibata,\n",
      "Av. dos trabalhadores,\n",
      "Al. Moraes,\n"
     ]
    }
   ],
   "source": [
    "#nome da rua\n",
    "regex= '(.+?,)'\n",
    "\n",
    "for t in text:\n",
    "    print(re.match(regex,t).group(0))"
   ]
  },
  {
   "cell_type": "code",
   "execution_count": 17,
   "id": "ec32a801",
   "metadata": {},
   "outputs": [
    {
     "name": "stdout",
     "output_type": "stream",
     "text": [
      "234\n",
      "97\n",
      "403\n",
      "90\n"
     ]
    }
   ],
   "source": [
    "regex= '(\\d+)'\n",
    "\n",
    "for t in text:\n",
    "    print(re.search(regex,t).group(0))"
   ]
  },
  {
   "cell_type": "code",
   "execution_count": 29,
   "id": "6970aa31",
   "metadata": {},
   "outputs": [
    {
     "name": "stdout",
     "output_type": "stream",
     "text": [
      " Vila Leopolding\n",
      " Centro\n",
      " Vila Golmes\n"
     ]
    }
   ],
   "source": [
    "#nome do bairro:\n",
    "\n",
    "regex= '-(.+),'\n",
    "\n",
    "for t in text:\n",
    "    print(re.search(regex,t).group(1))"
   ]
  },
  {
   "cell_type": "code",
   "execution_count": 31,
   "id": "7526784b",
   "metadata": {},
   "outputs": [
    {
     "name": "stdout",
     "output_type": "stream",
     "text": [
      " São Paulo\n",
      " Mogi Guaçu\n",
      " Pernambuco\n"
     ]
    }
   ],
   "source": [
    "#nome da cidade\n",
    "regex =',(.[a-zA-Z]+.+)'\n",
    "\n",
    "for t in text:\n",
    "    print(re.search(regex,t).group(1))"
   ]
  },
  {
   "cell_type": "code",
   "execution_count": null,
   "id": "859d93f2",
   "metadata": {},
   "outputs": [],
   "source": []
  }
 ],
 "metadata": {
  "kernelspec": {
   "display_name": "Python 3 (ipykernel)",
   "language": "python",
   "name": "python3"
  },
  "language_info": {
   "codemirror_mode": {
    "name": "ipython",
    "version": 3
   },
   "file_extension": ".py",
   "mimetype": "text/x-python",
   "name": "python",
   "nbconvert_exporter": "python",
   "pygments_lexer": "ipython3",
   "version": "3.8.10"
  }
 },
 "nbformat": 4,
 "nbformat_minor": 5
}
